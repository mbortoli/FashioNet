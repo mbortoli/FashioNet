{
 "cells": [
  {
   "cell_type": "markdown",
   "metadata": {},
   "source": [
    "# Abaixo o widget que servirá para auxiliar na criação de label das imagens\n"
   ]
  },
  {
   "cell_type": "code",
   "execution_count": 1,
   "metadata": {},
   "outputs": [],
   "source": [
    "from os import listdir\n",
    "import os.path\n",
    "from IPython.display import Image\n",
    "from IPython.display import display\n",
    "from IPython.display import clear_output\n",
    "from PIL import Image\n",
    "import ipywidgets as widgets\n",
    "import functools\n",
    "import csv"
   ]
  },
  {
   "cell_type": "code",
   "execution_count": 8,
   "metadata": {},
   "outputs": [],
   "source": [
    "path_to_files = '../dataset/test_set/resized/'\n",
    "classes = ['match' 'unmatch']\n"
   ]
  },
  {
   "cell_type": "code",
   "execution_count": 9,
   "metadata": {},
   "outputs": [
    {
     "name": "stdout",
     "output_type": "stream",
     "text": [
      "[[None, None], [None, None], [None, None], [None, None], [None, None]]\n"
     ]
    }
   ],
   "source": [
    "COLS = 5\n",
    "ROWS = 1\n",
    "image_files = [f for f in listdir(path_to_files) if f.startswith('IMG')]\n",
    "#IMAGES = [open(path_to_files + i, 'rb') for i in image_files]\n",
    "#print(IMAGES)\n",
    "IMG_WIDTH = 250\n",
    "IMG_HEIGHT = 300\n",
    "max_index = len(image_files)\n",
    "index = -1\n",
    "linha_csv = [[None,None]] * COLS\n",
    "print(linha_csv)\n",
    "\n",
    "\n",
    "    \n"
   ]
  },
  {
   "cell_type": "code",
   "execution_count": 10,
   "metadata": {},
   "outputs": [],
   "source": [
    "def on_clicked_match(caminho, col, button):\n",
    "    global linha_csv\n",
    "    linha_csv[col] = [caminho, 'match']\n",
    "    print('Combina!')\n",
    "    #print('Image %d clicked' % index)\n",
    "    #print(button)\n",
    "    \n",
    "def on_clicked_unmatch(caminho, col, button):\n",
    "    global linha_csv\n",
    "    print('Feio!')\n",
    "    linha_csv[col] = [caminho, 'unmatch']\n",
    "    \n",
    "def load_images(button):\n",
    "    global index\n",
    "    global linha_csv\n",
    "    if len(linha_csv) != 0 and index != -1:\n",
    "        if os.path.isfile('labeled_v3.csv'):\n",
    "            append_write = 'a' # append if already exists\n",
    "        else:\n",
    "            append_write = 'w' # make a new file if not\n",
    "        csvFile = open('labeled_v3.csv', append_write)\n",
    "        writer = csv.writer(csvFile)\n",
    "        writer.writerows(linha_csv)\n",
    "        csvFile.close()\n",
    "        linha_csv = [[None,None]] * COLS\n",
    "        \n",
    "    rows = []\n",
    "    for row in range(ROWS):\n",
    "        cols = []\n",
    "        for col in range(COLS):\n",
    "            index = index + 1\n",
    "            img = open(path_to_files + image_files[index], 'rb')\n",
    "            image = widgets.Image(\n",
    "                value=img.read(), format='jpg', width=IMG_WIDTH, height=IMG_HEIGHT\n",
    "            )\n",
    "            match_button = widgets.Button(description='Combina!')\n",
    "            unmatch_button = widgets.Button(description='Não Combina :(')\n",
    "            # Bind the click event to the on_click function, with our index as argument\n",
    "            match_button.on_click(functools.partial(on_clicked_match, path_to_files + image_files[index], col))\n",
    "            unmatch_button.on_click(functools.partial(on_clicked_unmatch, path_to_files + image_files[index], col))\n",
    "\n",
    "            # Create a vertical layout box, image above the button\n",
    "            box = widgets.VBox([image, match_button, unmatch_button])\n",
    "            cols.append(box)\n",
    "\n",
    "        # Create a horizontal layout box, grouping all the columns together\n",
    "        rows.append(widgets.HBox(cols))\n",
    "\n",
    "    # Create a vertical layout box, grouping all the rows together\n",
    "    result = widgets.VBox(rows)\n",
    "    clear_output()\n",
    "    display(result)\n",
    "    display(load_images_button)"
   ]
  },
  {
   "cell_type": "code",
   "execution_count": 11,
   "metadata": {},
   "outputs": [
    {
     "data": {
      "application/vnd.jupyter.widget-view+json": {
       "model_id": "baefecb5d70c4085b49d79a2784cf589",
       "version_major": 2,
       "version_minor": 0
      },
      "text/plain": [
       "VBox(children=(HBox(children=(VBox(children=(Image(value=b'\\xff\\xd8\\xff\\xe0\\x00\\x10JFIF\\x00\\x01\\x01\\x00\\x00\\x0…"
      ]
     },
     "metadata": {},
     "output_type": "display_data"
    },
    {
     "data": {
      "application/vnd.jupyter.widget-view+json": {
       "model_id": "ed5c585d7bae49aeaf916af92383261e",
       "version_major": 2,
       "version_minor": 0
      },
      "text/plain": [
       "Button(description='Carregar Imagem', style=ButtonStyle())"
      ]
     },
     "metadata": {},
     "output_type": "display_data"
    },
    {
     "name": "stdout",
     "output_type": "stream",
     "text": [
      "Feio!\n",
      "Combina!\n",
      "Combina!\n",
      "Feio!\n",
      "Combina!\n"
     ]
    },
    {
     "ename": "IndexError",
     "evalue": "list index out of range",
     "output_type": "error",
     "traceback": [
      "\u001b[0;31m---------------------------------------------------------------------------\u001b[0m",
      "\u001b[0;31mIndexError\u001b[0m                                Traceback (most recent call last)",
      "\u001b[0;32m<ipython-input-10-339df089478e>\u001b[0m in \u001b[0;36mload_images\u001b[0;34m(button)\u001b[0m\n\u001b[1;32m     30\u001b[0m         \u001b[0;32mfor\u001b[0m \u001b[0mcol\u001b[0m \u001b[0;32min\u001b[0m \u001b[0mrange\u001b[0m\u001b[0;34m(\u001b[0m\u001b[0mCOLS\u001b[0m\u001b[0;34m)\u001b[0m\u001b[0;34m:\u001b[0m\u001b[0;34m\u001b[0m\u001b[0;34m\u001b[0m\u001b[0m\n\u001b[1;32m     31\u001b[0m             \u001b[0mindex\u001b[0m \u001b[0;34m=\u001b[0m \u001b[0mindex\u001b[0m \u001b[0;34m+\u001b[0m \u001b[0;36m1\u001b[0m\u001b[0;34m\u001b[0m\u001b[0;34m\u001b[0m\u001b[0m\n\u001b[0;32m---> 32\u001b[0;31m             \u001b[0mimg\u001b[0m \u001b[0;34m=\u001b[0m \u001b[0mopen\u001b[0m\u001b[0;34m(\u001b[0m\u001b[0mpath_to_files\u001b[0m \u001b[0;34m+\u001b[0m \u001b[0mimage_files\u001b[0m\u001b[0;34m[\u001b[0m\u001b[0mindex\u001b[0m\u001b[0;34m]\u001b[0m\u001b[0;34m,\u001b[0m \u001b[0;34m'rb'\u001b[0m\u001b[0;34m)\u001b[0m\u001b[0;34m\u001b[0m\u001b[0;34m\u001b[0m\u001b[0m\n\u001b[0m\u001b[1;32m     33\u001b[0m             image = widgets.Image(\n\u001b[1;32m     34\u001b[0m                 \u001b[0mvalue\u001b[0m\u001b[0;34m=\u001b[0m\u001b[0mimg\u001b[0m\u001b[0;34m.\u001b[0m\u001b[0mread\u001b[0m\u001b[0;34m(\u001b[0m\u001b[0;34m)\u001b[0m\u001b[0;34m,\u001b[0m \u001b[0mformat\u001b[0m\u001b[0;34m=\u001b[0m\u001b[0;34m'jpg'\u001b[0m\u001b[0;34m,\u001b[0m \u001b[0mwidth\u001b[0m\u001b[0;34m=\u001b[0m\u001b[0mIMG_WIDTH\u001b[0m\u001b[0;34m,\u001b[0m \u001b[0mheight\u001b[0m\u001b[0;34m=\u001b[0m\u001b[0mIMG_HEIGHT\u001b[0m\u001b[0;34m\u001b[0m\u001b[0;34m\u001b[0m\u001b[0m\n",
      "\u001b[0;31mIndexError\u001b[0m: list index out of range"
     ]
    }
   ],
   "source": [
    "load_images_button = widgets.Button(description='Carregar Imagem')\n",
    "load_images_button.on_click(load_images)\n",
    "display(load_images_button)"
   ]
  },
  {
   "cell_type": "markdown",
   "metadata": {},
   "source": [
    "# Abaixo combinaremos as peças de cima com as de baixo"
   ]
  },
  {
   "cell_type": "code",
   "execution_count": null,
   "metadata": {},
   "outputs": [],
   "source": [
    "from os import listdir\n",
    "from os.path import isfile, join\n",
    "import numpy as np\n",
    "from PIL import Image\n",
    "\n"
   ]
  },
  {
   "cell_type": "code",
   "execution_count": null,
   "metadata": {},
   "outputs": [],
   "source": [
    "path = '../dataset/test_set/'\n",
    "cropped_upper = path+'upper/'\n",
    "cropped_bottom = path+'bottom/'\n",
    "combined = path+'combined/'\n",
    "upper_files = [cropped_upper + f for f in listdir(cropped_upper) if f.startswith('IMG')]\n",
    "bottom_files = [cropped_bottom + f for f in listdir(cropped_bottom) if f.startswith('IMG')]\n",
    "for u in upper_files:\n",
    "    upper_image = Image.open(u)\n",
    "    for b in bottom_files:\n",
    "        print(u, b)\n",
    "        bottom_image = Image.open(b)\n",
    "        combined_image = np.vstack([upper_image, bottom_image])\n",
    "        #print(combined_image)\n",
    "        combined_image = Image.fromarray(combined_image)\n",
    "        combined_image.save(combined + u.split('/', 4)[-1] + '-' + b.split('/', 4)[-1])"
   ]
  },
  {
   "cell_type": "markdown",
   "metadata": {},
   "source": [
    "# O código a seguir faz o resize das imagens para seguir um padrão\n"
   ]
  },
  {
   "cell_type": "code",
   "execution_count": null,
   "metadata": {},
   "outputs": [],
   "source": [
    "#np.random.seed(42)\n",
    "#data = ImageDataBunch.from_folder(path_to_files, train=\".\", valid_pct=0.2,\n",
    "        #ds_tfms=get_transforms(), size=224, num_workers=4).normalize(imagenet_stats)"
   ]
  },
  {
   "cell_type": "code",
   "execution_count": null,
   "metadata": {},
   "outputs": [],
   "source": [
    "#data.show_batch(rows=3, figsize=(7,8))"
   ]
  },
  {
   "cell_type": "code",
   "execution_count": null,
   "metadata": {},
   "outputs": [],
   "source": [
    "from os import listdir\n",
    "from os.path import isfile, join\n",
    "import numpy as np\n",
    "from PIL import Image\n",
    "width = 250\n",
    "height = 250\n",
    "path = '../dataset/test_set/'\n",
    "resized = path+'resized/'\n",
    "combined = path+'combined/'\n",
    "combined_files = [f for f in listdir(combined) if f.startswith('IMG')]\n"
   ]
  },
  {
   "cell_type": "code",
   "execution_count": null,
   "metadata": {},
   "outputs": [],
   "source": [
    "combined_files"
   ]
  },
  {
   "cell_type": "code",
   "execution_count": null,
   "metadata": {},
   "outputs": [],
   "source": [
    "#images = map(Image.open, combined_files)\n",
    "#widths, heights = zip(*(i.size for i in images))"
   ]
  },
  {
   "cell_type": "code",
   "execution_count": null,
   "metadata": {},
   "outputs": [],
   "source": [
    "#max_height = np.amax(heights)"
   ]
  },
  {
   "cell_type": "code",
   "execution_count": null,
   "metadata": {},
   "outputs": [],
   "source": [
    "for f in combined_files:\n",
    "    img = Image.open(combined+f)\n",
    "    img = img.resize((width, height), Image.NEAREST)\n",
    "    img.save(resized+f)"
   ]
  },
  {
   "cell_type": "code",
   "execution_count": null,
   "metadata": {},
   "outputs": [],
   "source": []
  }
 ],
 "metadata": {
  "kernelspec": {
   "display_name": "Python 3",
   "language": "python",
   "name": "python3"
  },
  "language_info": {
   "codemirror_mode": {
    "name": "ipython",
    "version": 3
   },
   "file_extension": ".py",
   "mimetype": "text/x-python",
   "name": "python",
   "nbconvert_exporter": "python",
   "pygments_lexer": "ipython3",
   "version": "3.7.3"
  }
 },
 "nbformat": 4,
 "nbformat_minor": 2
}
